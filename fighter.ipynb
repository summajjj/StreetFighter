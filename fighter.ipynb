{
  "nbformat": 4,
  "nbformat_minor": 0,
  "metadata": {
    "colab": {
      "provenance": []
    },
    "kernelspec": {
      "name": "python3",
      "display_name": "Python 3"
    },
    "language_info": {
      "name": "python"
    }
  },
  "cells": [
    {
      "cell_type": "code",
      "execution_count": null,
      "metadata": {
        "id": "XNv38WEUr9ag"
      },
      "outputs": [],
      "source": [
        "import pygame\n",
        "\n",
        "# this is a temporary rectangle to represent one of our fighters. as we add more\n",
        "# actions, it will get more complex. right now, this just puts our little\n",
        "# rectangle dude on the map. once we have the players, we will replace rects with\n",
        "# them.\n",
        "\n",
        "class Fighter():\n",
        "    def __init__(self, x, y)\n",
        "      self.rect = ((x, y, 80, 180))\n",
        "\n",
        "    def draw(self, surface)\n",
        "        pygame.draw.rect(surface, (255, 0, 0), self.rect)\n",
        "\n"
      ]
    }
  ]
}