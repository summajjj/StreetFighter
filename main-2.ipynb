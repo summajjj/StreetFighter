{
  "nbformat": 4,
  "nbformat_minor": 0,
  "metadata": {
    "colab": {
      "provenance": []
    },
    "kernelspec": {
      "name": "python3",
      "display_name": "Python 3"
    },
    "language_info": {
      "name": "python"
    }
  },
  "cells": [
    {
      "cell_type": "markdown",
      "source": [],
      "metadata": {
        "id": "Xv-3dn7GoSyx"
      }
    },
    {
      "cell_type": "code",
      "source": [
        "import pygame\n",
        "from fighter import Fighter\n",
        "\n",
        "pygame.init()\n",
        "\n",
        "# game window initialization\n",
        "SCREEN_WIDTH = 1000\n",
        "SCREEN_HEIGHT = 800\n",
        "\n",
        "screen = pygame.display.set_mode((SCREEN_WIDTH, SCREEN_HEIGHT))\n",
        "pygame.display.set_caption('Street Fighter')\n",
        "\n",
        "# set framerate\n",
        "clock = pygame.time.Clock()\n",
        "FPS = 60\n",
        "\n",
        "# define colors\n",
        "YELLOW = (255, 255, 0)\n",
        "RED = (255, 0, 0)\n",
        "WHITE = (255, 255, 255)\n",
        "\n",
        "# LOAD BACKGROUND IMAGE HERE!\n",
        "bg_image =\n",
        "\n",
        "\n",
        "# function for drawing background\n",
        "def draw_bg():\n",
        "  scaled_bg = pygame.transform.scale(bg_image, (SCREEN_WIDTH, SCREEN_HEIGHT))\n",
        "  screen.blit(scaled_bg, (0, 0))\n",
        "\n",
        "# function for drawing fighter health bars\n",
        "def draw_health_bar(health, x, y):\n",
        "  ratio = health / 100\n",
        "  pygame.draw.rect(screen, WHITE, (x - 2, y - 2, 402, 32))\n",
        "  pygame.draw.rect(screen, RED, (x, y, 400, 30))\n",
        "  pygame.draw.rect(screen, YELLOW, (x, y, 400 * ratio, 30))\n",
        "\n",
        "\n",
        "# create two instances of fighters  (we will go back later during UI to chose each)\n",
        "fighter_left = Fighter(200, 310)\n",
        "fighter_right = Fighter(700, 310)\n",
        "\n",
        "# main loop initialization\n",
        "run = True\n",
        "while run:\n",
        "\n",
        "    clock.tick(FPS)\n",
        "\n",
        "    # draw background\n",
        "    spawn_bg()\n",
        "\n",
        "    # show player stats\n",
        "    draw_health_bar(fighter_left.health, 20, 20)\n",
        "    draw_health_bar(fighter_right.health, 580, 20)\n",
        "\n",
        "    # move fighters\n",
        "    fighter_left.move(SCREEN_WIDTH, SCREEN_HEIGHT, screen, fighter_right)\n",
        "\n",
        "\n",
        "    # draw fighters\n",
        "    fighter_left.draw(screen)\n",
        "    fighter_right.draw(screen)\n",
        "\n",
        "    for event in pygame.event.get():\n",
        "        if event.type == pygame.QUIT:\n",
        "            run = False\n",
        "\n",
        "    pygame.display.update()\n",
        "\n",
        "\n",
        "# quit game\n",
        "pygame.quit()"
      ],
      "metadata": {
        "id": "jZRz79_CoWUf"
      },
      "execution_count": null,
      "outputs": []
    }
  ]
}