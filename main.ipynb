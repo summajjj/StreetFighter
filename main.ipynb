{
  "nbformat": 4,
  "nbformat_minor": 0,
  "metadata": {
    "colab": {
      "provenance": []
    },
    "kernelspec": {
      "name": "python3",
      "display_name": "Python 3"
    },
    "language_info": {
      "name": "python"
    }
  },
  "cells": [
    {
      "cell_type": "markdown",
      "source": [],
      "metadata": {
        "id": "Xv-3dn7GoSyx"
      }
    },
    {
      "cell_type": "code",
      "source": [
        "import pygame\n",
        "from fighter import Fighter\n",
        "\n",
        "pygame.init()\n",
        "\n",
        "# game window initialization\n",
        "SCREEN_WIDTH = 1000\n",
        "SCREEN_HEIGHT = 800\n",
        "\n",
        "screen = pygame.display.set_mode((SCREEN_WIDTH, SCREEN_HEIGHT))\n",
        "pygame.display.set_caption('Street Fighter')\n",
        "\n",
        "# LOAD BACKGROUND IMAGE HERE!\n",
        "bg_image =\n",
        "\n",
        "def spawn_bg()\n",
        "  scaled_bg = pygame.transform.scale(bg_image, (SCREEN_WIDTH, SCREEN_HEIGHT))\n",
        "  screen.blit(scaled_bg, (0, 0))\n",
        "\n",
        "# spawn fighters into the arena (we will go back later during UI to chose each)\n",
        "fighter_left = Fighter(200, 310)\n",
        "fighter_right = Fighter(700, 310)\n",
        "\n",
        "# main loop initialization\n",
        "run = True\n",
        "while run:\n",
        "\n",
        "    #spawn background\n",
        "    spawn_bg()\n",
        "\n",
        "    #spawn fighters\n",
        "    fighter_left.draw(screen)\n",
        "    fighter_right.draw(screen)\n",
        "\n",
        "    for event in pygame.event.get():\n",
        "        if event.type == pygame.QUIT:\n",
        "            run = False\n",
        "\n",
        "    pygame.display.update()\n",
        "\n",
        "\n",
        "# quit game\n",
        "pygame.quit()"
      ],
      "metadata": {
        "id": "jZRz79_CoWUf"
      },
      "execution_count": null,
      "outputs": []
    }
  ]
}